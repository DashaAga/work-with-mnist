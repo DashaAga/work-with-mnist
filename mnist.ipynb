{
 "cells": [
  {
   "cell_type": "code",
   "execution_count": 6,
   "id": "5abce7ee",
   "metadata": {},
   "outputs": [
    {
     "name": "stdout",
     "output_type": "stream",
     "text": [
      "Model: \"sequential_3\"\n",
      "_________________________________________________________________\n",
      " Layer (type)                Output Shape              Param #   \n",
      "=================================================================\n",
      " flatten (Flatten)           (None, 784)               0         \n",
      "                                                                 \n",
      " dense (Dense)               (None, 128)               100480    \n",
      "                                                                 \n",
      " dense_1 (Dense)             (None, 10)                1290      \n",
      "                                                                 \n",
      "=================================================================\n",
      "Total params: 101,770\n",
      "Trainable params: 101,770\n",
      "Non-trainable params: 0\n",
      "_________________________________________________________________\n",
      "None\n",
      "Epoch 1/5\n",
      "1500/1500 [==============================] - 3s 2ms/step - loss: 0.2831 - accuracy: 0.9195 - val_loss: 0.1507 - val_accuracy: 0.9572\n",
      "Epoch 2/5\n",
      "1500/1500 [==============================] - 3s 2ms/step - loss: 0.1272 - accuracy: 0.9626 - val_loss: 0.1188 - val_accuracy: 0.9667\n",
      "Epoch 3/5\n",
      "1500/1500 [==============================] - 3s 2ms/step - loss: 0.0863 - accuracy: 0.9746 - val_loss: 0.1063 - val_accuracy: 0.9693\n",
      "Epoch 4/5\n",
      "1500/1500 [==============================] - 3s 2ms/step - loss: 0.0638 - accuracy: 0.9815 - val_loss: 0.1042 - val_accuracy: 0.9707\n",
      "Epoch 5/5\n",
      "1500/1500 [==============================] - 3s 2ms/step - loss: 0.0512 - accuracy: 0.9848 - val_loss: 0.0852 - val_accuracy: 0.9747\n",
      "313/313 [==============================] - 1s 2ms/step - loss: 0.0738 - accuracy: 0.9761\n",
      "Распознанная цифра: 4\n"
     ]
    },
    {
     "data": {
      "image/png": "[encoded data removed]",
      "text/plain": [
       "<Figure size 432x288 with 1 Axes>"
      ]
     },
     "metadata": {
      "needs_background": "light"
     },
     "output_type": "display_data"
    }
   ],
   "source": [
    "import os\n",
    "os.environ['TF_CPP_MIN_LOG_LEVEL'] = '2'\n",
    "\n",
    "import numpy as np\n",
    "import matplotlib.pyplot as plt\n",
    "from tensorflow.keras.datasets import mnist         # библиотека базы выборок Mnist\n",
    "from tensorflow import keras\n",
    "from tensorflow.keras.layers import Dense, Flatten\n",
    "#загрузим наши данные\n",
    "(x_train, y_train), (x_test, y_test) = mnist.load_data()\n",
    "\n",
    "#нормализация входных данных\n",
    "x_train = x_train / 255\n",
    "x_test = x_test / 255\n",
    "\n",
    "#преобразовать числа в соответствующий выходной вектор нейронов. Например 0 - [1, 0, 0, 0 <...>]\n",
    "y_train_cat = keras.utils.to_categorical(y_train, 10)\n",
    "y_test_cat = keras.utils.to_categorical(y_test, 10)\n",
    "\n",
    "model = keras.Sequential([\n",
    "    Flatten(input_shape=(28, 28, 1)),\n",
    "    Dense(128, activation='relu'), #полносвязная нейронная сеть\n",
    "    Dense(10, activation='softmax')\n",
    "])\n",
    "\n",
    "print(model.summary())#вывод структуры НС в консоль\n",
    "\n",
    "model.compile(optimizer='adam',\n",
    "             loss='categorical_crossentropy',\n",
    "             metrics=['accuracy'])\n",
    "\n",
    "model.fit(x_train, y_train_cat, batch_size=32, epochs=5, validation_split=0.2)\n",
    "\n",
    "model.evaluate(x_test, y_test_cat)\n",
    "\n",
    "# Распознавание всей тестовой выборки\n",
    "pred = model.predict(x_test)\n",
    "pred = np.argmax(pred, axis=1)\n",
    "\n",
    "#подадим какое-то изображение\n",
    "n = 56\n",
    "x = np.expand_dims(x_test[n], axis=0)\n",
    "res = model.predict(x)\n",
    "print(f\"Распознанная цифра: {np.argmax(res)}\") #берет максимальный индекс и выводит цифру\n",
    "\n",
    "plt.imshow(x_test[n], cmap=plt.cm.binary)\n",
    "plt.show()"
   ]
  },
  {
   "cell_type": "code",
   "execution_count": null,
   "id": "b1230f30",
   "metadata": {},
   "outputs": [],
   "source": []
  }
 ],
 "metadata": {
  "kernelspec": {
   "display_name": "Python 3 (ipykernel)",
   "language": "python",
   "name": "python3"
  },
  "language_info": {
   "codemirror_mode": {
    "name": "ipython",
    "version": 3
   },
   "file_extension": ".py",
   "mimetype": "text/x-python",
   "name": "python",
   "nbconvert_exporter": "python",
   "pygments_lexer": "ipython3",
   "version": "3.9.7"
  }
 },
 "nbformat": 4,
 "nbformat_minor": 5
}
